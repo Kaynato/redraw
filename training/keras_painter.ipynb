{
 "cells": [
  {
   "cell_type": "code",
   "execution_count": 1,
   "metadata": {
    "collapsed": false
   },
   "outputs": [],
   "source": [
    "# !pip install imageio\n",
    "# !pip install keras\n",
    "%matplotlib inline"
   ]
  },
  {
   "cell_type": "code",
   "execution_count": 2,
   "metadata": {
    "colab": {
     "autoexec": {
      "startup": false,
      "wait_interval": 0
     }
    },
    "colab_type": "code",
    "collapsed": false,
    "id": "pybqnBcNd28N"
   },
   "outputs": [
    {
     "name": "stderr",
     "output_type": "stream",
     "text": [
      "Using TensorFlow backend.\n"
     ]
    }
   ],
   "source": [
    "import numpy as np\n",
    "import imageio\n",
    "import tensorflow as tf\n",
    "import matplotlib.pyplot as plt\n",
    "\n",
    "import keras"
   ]
  },
  {
   "cell_type": "markdown",
   "metadata": {},
   "source": [
    "# Global Constants"
   ]
  },
  {
   "cell_type": "code",
   "execution_count": 3,
   "metadata": {
    "colab": {
     "autoexec": {
      "startup": false,
      "wait_interval": 0
     }
    },
    "colab_type": "code",
    "collapsed": true,
    "id": "90zOLLMGns8T"
   },
   "outputs": [],
   "source": [
    "### DEFINE CONSTANTS\n",
    "\n",
    "# Connect all components for end-to-end training\n",
    "END_TO_END = False\n",
    "\n",
    "# Prioritization of gradient support vs fidelity of critic applicator\n",
    "FIDELITY = 0.1\n",
    "\n",
    "# Size of plausible input size\n",
    "N = 256 # (Pad images to this size with WHITE.)\n",
    "\n",
    "# Color MSE tolerance\n",
    "MSE_TOL = 3.0 / 256.0\n",
    "\n",
    "CONST_k = 16.0\n",
    "CONST_p = 1.0012131648204332 # Obtained from a rather exhaustive optimization\n",
    "\n",
    "# MIGHT WANT TO INCREASE DURING TRAINING\n",
    "SMC = -2.0\n",
    "SML = -2.0"
   ]
  },
  {
   "cell_type": "code",
   "execution_count": 4,
   "metadata": {
    "collapsed": true
   },
   "outputs": [],
   "source": [
    "# Some functions\n",
    "class PushPlus(keras.engine.topology.Layer):\n",
    "    \n",
    "    def __init__(self, **kwargs):\n",
    "        super(PushPlus, self).__init__(**kwargs)\n",
    "    \n",
    "    def build(self, input_shape):\n",
    "        self.var = self.add_weight(name='var',\n",
    "                                   shape=(1, input_shape[1]),\n",
    "                                   initializer='zeros',\n",
    "                                   trainable=True)\n",
    "        super(PushPlus, self).build(input_shape)\n",
    "        \n",
    "    def call(self, x, activation=None):\n",
    "        ret = keras.layers.Add()([x, self.var])\n",
    "        if activation is not None:\n",
    "            if isinstance(activation, str):\n",
    "                ret = keras.layers.Activation(activation)(ret)\n",
    "            else:\n",
    "                ret = activation(ret)\n",
    "        return ret\n",
    "    \n",
    "    def compute_output_shape(self, input_shape):\n",
    "        return (1, input_shape[1])\n",
    "    \n",
    "class VarLike(keras.engine.topology.Layer):\n",
    "    \n",
    "    def __init__(self, **kwargs):\n",
    "        super(VarLike, self).__init__(**kwargs)\n",
    "    \n",
    "    def build(self, input_shape):\n",
    "        self.var = self.add_weight(name='var',\n",
    "                                   shape=(1, input_shape[1]),\n",
    "                                   initializer='zeros',\n",
    "                                   trainable=True)\n",
    "        super(VarLike, self).build(input_shape)\n",
    "        \n",
    "    def call(self, x, activation=None):\n",
    "        ret = self.var\n",
    "        if activation is not None:\n",
    "            if isinstance(activation, str):\n",
    "                ret = keras.layers.Activation(activation)(ret)\n",
    "            else:\n",
    "                ret = activation(ret)\n",
    "        return ret\n",
    "    \n",
    "    def compute_output_shape(self, input_shape):\n",
    "        return (1, input_shape[1])\n",
    "    \n",
    "#     return tf.Variable(np.zeros([1] + x.shape.as_list()[1:]),\n",
    "#                        name=x.name[:-2] + '_var',\n",
    "#                        dtype=x.dtype,\n",
    "#                        trainable=True)"
   ]
  },
  {
   "cell_type": "markdown",
   "metadata": {},
   "source": [
    "## Global Inputs"
   ]
  },
  {
   "cell_type": "code",
   "execution_count": 5,
   "metadata": {
    "colab": {
     "autoexec": {
      "startup": false,
      "wait_interval": 0
     }
    },
    "colab_type": "code",
    "collapsed": false,
    "id": "yEgA6T-HeH7B"
   },
   "outputs": [],
   "source": [
    "# Inter-subnetwork variables\n",
    "inputs = {}\n",
    "inputs['state']    = keras.layers.Input(shape=(N, N, 3), name='state')\n",
    "inputs['position'] = keras.layers.Input(shape=(2,), name='position')\n",
    "inputs['width']    = keras.layers.Input(shape=(1,), name='width')\n",
    "inputs['color']    = keras.layers.Input(shape=(3,), name='color')\n",
    "\n",
    "# inputs['goal']     = keras.layers.Input(shape=(N, N, 3), 'goal')\n",
    "\n",
    "exposed = {}\n",
    "exposed['new_state'] = None\n",
    "\n",
    "critic_input = {}"
   ]
  },
  {
   "cell_type": "markdown",
   "metadata": {
    "colab": {
     "autoexec": {
      "startup": false,
      "wait_interval": 0
     }
    },
    "colab_type": "code",
    "collapsed": true,
    "id": "AfmugpP1ek9N"
   },
   "source": [
    "# Candidate Selection Network (Actor)"
   ]
  },
  {
   "cell_type": "code",
   "execution_count": null,
   "metadata": {
    "collapsed": false
   },
   "outputs": [],
   "source": []
  },
  {
   "cell_type": "markdown",
   "metadata": {},
   "source": [
    "# Action Evaluation Network (Policy Actor)"
   ]
  },
  {
   "cell_type": "code",
   "execution_count": 7,
   "metadata": {
    "collapsed": false
   },
   "outputs": [],
   "source": [
    "jam_in = {}\n",
    "if not END_TO_END:\n",
    "    jam_in['start'] = keras.layers.Input(shape=(2,), name='p_start')\n",
    "    jam_in['end']   = keras.layers.Input(shape=(2,), name='p_end')\n",
    "    jam_in['width'] = keras.layers.Input(shape=(1,), name='p_width')\n",
    "    jam_in['color'] = keras.layers.Input(shape=(3,), name='p_color')\n",
    "    \n",
    "    for k, x in jam_in.items():\n",
    "        act = keras.backend.relu if k == 'width' else None\n",
    "#         critic_input[k] = PushPlus()(x, activation=act)\n",
    "        critic_input[k] = VarLike()(x, activation=act)\n",
    "else:\n",
    "    # Do end-to-end passing in of vals from Candidate Selector\n",
    "    pass\n",
    "    # TODO\n",
    "\n",
    "# Dummy model (learn offset) to make sure that gradients are going back\n",
    "# variables = {x: make_var_for(x) for x in [i_start, i_end, i_width]}\n",
    "\n",
    "# width = i_width + N * tf.sigmoid(variables[i_width])\n",
    "# start = N * tf.sigmoid(i_start + variables[i_start])\n",
    "# end = N * tf.sigmoid(i_end + variables[i_end])\n",
    "\n",
    "# Define Methods\n",
    "# Input-invariant Tensors\n",
    "\n",
    "class DrawLineLayer(keras.engine.topology.Layer):\n",
    "    \n",
    "    def __init__(self, start, end, width, color, method, **kwargs):\n",
    "        anti_vec = [[-1.0, 1.0]]\n",
    "        st_idx = np.stack(np.meshgrid(np.r_[:N], np.r_[:N]), axis=2).astype('float32')\n",
    "        \n",
    "        line = end - start\n",
    "        orth_bc = tf.nn.l2_normalize(tf.reverse(line, axis=[1]) * anti_vec, dim=1)\n",
    "        orth_bc = tf.reshape(orth_bc, [-1, 1, 1, 2])\n",
    "        \n",
    "        mid_bc = tf.reshape((start + end) / 2.0, [-1, 1, 1, 2])\n",
    "        recentered = st_idx - mid_bc\n",
    "        reoriented = recentered * orth_bc\n",
    "        dotp = tf.square(tf.reduce_sum(reoriented, axis=3, keep_dims=True))\n",
    "        trough = np.square(width / 2.0) - dotp\n",
    "\n",
    "        length = (tf.norm(line, ord='euclidean') + width) / 2.0\n",
    "        sphere = tf.square(length) - tf.square(tf.reduce_sum(recentered, axis=3, keep_dims=True))\n",
    "        self.mask = tf.sigmoid(tf.exp(SML) * trough) * tf.sigmoid(tf.exp(SMC) * sphere)\n",
    "        \n",
    "        color_bc = tf.reshape(color, [-1, 1, 1, 3])\n",
    "        self.plus = self.mask * color_bc\n",
    "        super(DrawLineLayer, self).__init__(**kwargs)\n",
    "        \n",
    "    def build(self, input_shape):\n",
    "        super(DrawLineLayer, self).build(input_shape)\n",
    "        \n",
    "    def call(self, x):\n",
    "        mask_minus = x * (1 - self.mask)\n",
    "        return mask_minus + self.plus\n",
    "    \n",
    "    def compute_output_shape(self, input_shape):\n",
    "        return input_shape\n",
    "    \n",
    "def slope_sphere(start, end, width, line, orth_bc):\n",
    "    \"\"\"\n",
    "    Get state mask by multiplying line by slope and circle by size\n",
    "    \"\"\"\n",
    "    # Magic sharpening constant to reduce MAX anomaly\n",
    "    \n",
    "    \n",
    "    return result\n"
   ]
  },
  {
   "cell_type": "code",
   "execution_count": 8,
   "metadata": {
    "collapsed": false
   },
   "outputs": [
    {
     "name": "stdout",
     "output_type": "stream",
     "text": [
      "Tensor(\"state:0\", shape=(?, 256, 256, 3), dtype=float32)\n",
      "Tensor(\"draw_line_layer_1/add:0\", shape=(?, 256, 256, 3), dtype=float32)\n"
     ]
    }
   ],
   "source": [
    "print(inputs['state'])\n",
    "\n",
    "new_state = DrawLineLayer(critic_input['start'],\n",
    "                          critic_input['end'],\n",
    "                          critic_input['width'],\n",
    "                          critic_input['color'],\n",
    "                          slope_sphere)(inputs['state'])\n",
    "\n",
    "print(new_state)"
   ]
  },
  {
   "cell_type": "markdown",
   "metadata": {},
   "source": [
    "# Loss (Critic?)"
   ]
  },
  {
   "cell_type": "code",
   "execution_count": 9,
   "metadata": {
    "collapsed": false
   },
   "outputs": [],
   "source": [
    "def redraw_loss(goal, new_state):\n",
    "    \"\"\"Count only wrong pixel MSEs past a threshold. Batching done by keras.\"\"\"\n",
    "    mse = tf.reduce_sum(tf.square(goal - new_state), axis=3)\n",
    "    counted_wrongs = tf.nn.relu(mse - MSE_TOL)\n",
    "    goal_loss = keras.backend.sum(counted_wrongs, axis=(1, 2))\n",
    "    return goal_loss\n",
    "\n",
    "# exposed['wrongs'] = redraw_loss(inputs['goal'], new_state)"
   ]
  },
  {
   "cell_type": "markdown",
   "metadata": {
    "colab": {
     "autoexec": {
      "startup": false,
      "wait_interval": 0
     }
    },
    "colab_type": "code",
    "collapsed": true,
    "id": "_gdXeNUEeG7p"
   },
   "source": [
    "# MODEL  COMPILATION"
   ]
  },
  {
   "cell_type": "code",
   "execution_count": 16,
   "metadata": {
    "colab": {
     "autoexec": {
      "startup": false,
      "wait_interval": 0
     }
    },
    "colab_type": "code",
    "collapsed": false,
    "id": "tYWuPOQKgOn2"
   },
   "outputs": [],
   "source": [
    "MODEL_INPUTS = [inputs[k] for k in ['state']]\n",
    "if not END_TO_END:\n",
    "    MODEL_INPUTS += [jam_in[k] for k in ['start', 'end', 'width', 'color']]\n",
    "else:\n",
    "    # TODO\n",
    "    pass\n",
    "\n",
    "MODEL_OUTPUTS = [new_state]\n",
    "\n",
    "model = keras.models.Model(inputs=MODEL_INPUTS, outputs=MODEL_OUTPUTS)\n",
    "model.compile(optimizer='sgd', loss=[redraw_loss])"
   ]
  },
  {
   "cell_type": "code",
   "execution_count": 17,
   "metadata": {
    "colab": {
     "autoexec": {
      "startup": false,
      "wait_interval": 0
     }
    },
    "colab_type": "code",
    "collapsed": false,
    "id": "nUjZOZ8GhGyW"
   },
   "outputs": [
    {
     "data": {
      "text/plain": [
       "<matplotlib.image.AxesImage at 0xa0923a72b0>"
      ]
     },
     "execution_count": 17,
     "metadata": {},
     "output_type": "execute_result"
    },
    {
     "data": {
      "image/png": "[encoded data removed]",
      "text/plain": [
       "<matplotlib.figure.Figure at 0xa0922b47f0>"
      ]
     },
     "metadata": {},
     "output_type": "display_data"
    }
   ],
   "source": [
    "MOCK_GOAL = 1 - imageio.imread('./data/line_ex_1.png')[:,:,:3] / 255.0\n",
    "plt.imshow(MOCK_GOAL)"
   ]
  },
  {
   "cell_type": "code",
   "execution_count": 18,
   "metadata": {
    "colab": {
     "autoexec": {
      "startup": false,
      "wait_interval": 0
     }
    },
    "colab_type": "code",
    "collapsed": false,
    "id": "XqJqef3PgQ8z"
   },
   "outputs": [
    {
     "name": "stdout",
     "output_type": "stream",
     "text": [
      "Epoch 1/100\n",
      " - 0s - loss: 1823.2852\n",
      "Epoch 2/100\n",
      " - 0s - loss: 1823.2852\n",
      "Epoch 3/100\n",
      " - 0s - loss: 1823.2852\n",
      "Epoch 4/100\n",
      " - 0s - loss: 1823.2852\n",
      "Epoch 5/100\n",
      " - 0s - loss: 1823.2852\n",
      "Epoch 6/100\n",
      " - 0s - loss: 1823.2852\n",
      "Epoch 7/100\n",
      " - 0s - loss: 1823.2852\n",
      "Epoch 8/100\n",
      " - 0s - loss: 1823.2852\n",
      "Epoch 9/100\n",
      " - 0s - loss: 1823.2852\n",
      "Epoch 10/100\n",
      " - 0s - loss: 1823.2852\n",
      "Epoch 11/100\n",
      " - 0s - loss: 1823.2852\n",
      "Epoch 12/100\n",
      " - 0s - loss: 1823.2852\n",
      "Epoch 13/100\n",
      " - 0s - loss: 1823.2852\n",
      "Epoch 14/100\n",
      " - 0s - loss: 1823.2852\n",
      "Epoch 15/100\n",
      " - 0s - loss: 1823.2852\n",
      "Epoch 16/100\n",
      " - 0s - loss: 1823.2852\n",
      "Epoch 17/100\n",
      " - 0s - loss: 1823.2852\n",
      "Epoch 18/100\n",
      " - 0s - loss: 1823.2852\n",
      "Epoch 19/100\n",
      " - 0s - loss: 1823.2852\n",
      "Epoch 20/100\n",
      " - 0s - loss: 1823.2852\n",
      "Epoch 21/100\n",
      " - 0s - loss: 1823.2852\n",
      "Epoch 22/100\n",
      " - 0s - loss: 1823.2852\n",
      "Epoch 23/100\n",
      " - 0s - loss: 1823.2852\n",
      "Epoch 24/100\n",
      " - 0s - loss: 1823.2852\n",
      "Epoch 25/100\n",
      " - 0s - loss: 1823.2852\n",
      "Epoch 26/100\n",
      " - 0s - loss: 1823.2852\n",
      "Epoch 27/100\n",
      " - 0s - loss: 1823.2852\n",
      "Epoch 28/100\n",
      " - 0s - loss: 1823.2852\n",
      "Epoch 29/100\n",
      " - 0s - loss: 1823.2852\n",
      "Epoch 30/100\n",
      " - 0s - loss: 1823.2852\n",
      "Epoch 31/100\n",
      " - 0s - loss: 1823.2852\n",
      "Epoch 32/100\n",
      " - 0s - loss: 1823.2852\n",
      "Epoch 33/100\n",
      " - 0s - loss: 1823.2852\n",
      "Epoch 34/100\n",
      " - 0s - loss: 1823.2852\n",
      "Epoch 35/100\n",
      " - 0s - loss: 1823.2852\n",
      "Epoch 36/100\n",
      " - 0s - loss: 1823.2852\n",
      "Epoch 37/100\n",
      " - 0s - loss: 1823.2852\n",
      "Epoch 38/100\n",
      " - 0s - loss: 1823.2852\n",
      "Epoch 39/100\n",
      " - 0s - loss: 1823.2852\n",
      "Epoch 40/100\n",
      " - 0s - loss: 1823.2852\n",
      "Epoch 41/100\n",
      " - 0s - loss: 1823.2852\n",
      "Epoch 42/100\n",
      " - 0s - loss: 1823.2852\n",
      "Epoch 43/100\n",
      " - 0s - loss: 1823.2852\n",
      "Epoch 44/100\n",
      " - 0s - loss: 1823.2850\n",
      "Epoch 45/100\n",
      " - 0s - loss: 1823.2852\n",
      "Epoch 46/100\n",
      " - 0s - loss: 1823.2852\n",
      "Epoch 47/100\n",
      " - 0s - loss: 1823.2852\n",
      "Epoch 48/100\n",
      " - 0s - loss: 1823.2852\n",
      "Epoch 49/100\n",
      " - 0s - loss: 1823.2852\n",
      "Epoch 50/100\n",
      " - 0s - loss: 1823.2852\n",
      "Epoch 51/100\n",
      " - 0s - loss: 1823.2852\n",
      "Epoch 52/100\n",
      " - 0s - loss: 1823.2852\n",
      "Epoch 53/100\n",
      " - 0s - loss: 1823.2852\n",
      "Epoch 54/100\n",
      " - 0s - loss: 1823.2852\n",
      "Epoch 55/100\n",
      " - 0s - loss: 1823.2852\n",
      "Epoch 56/100\n",
      " - 0s - loss: 1823.2852\n",
      "Epoch 57/100\n",
      " - 0s - loss: 1823.2852\n",
      "Epoch 58/100\n",
      " - 0s - loss: 1823.2852\n",
      "Epoch 59/100\n",
      " - 0s - loss: 1823.2852\n",
      "Epoch 60/100\n",
      " - 0s - loss: 1823.2852\n",
      "Epoch 61/100\n",
      " - 0s - loss: 1823.2852\n",
      "Epoch 62/100\n",
      " - 0s - loss: 1823.2852\n",
      "Epoch 63/100\n",
      " - 0s - loss: 1823.2852\n",
      "Epoch 64/100\n",
      " - 0s - loss: 1823.2852\n",
      "Epoch 65/100\n",
      " - 0s - loss: 1823.2852\n",
      "Epoch 66/100\n",
      " - 0s - loss: 1823.2852\n",
      "Epoch 67/100\n",
      " - 0s - loss: 1823.2852\n",
      "Epoch 68/100\n",
      " - 0s - loss: 1823.2852\n",
      "Epoch 69/100\n",
      " - 0s - loss: 1823.2852\n",
      "Epoch 70/100\n",
      " - 0s - loss: 1823.2852\n",
      "Epoch 71/100\n",
      " - 0s - loss: 1823.2852\n",
      "Epoch 72/100\n",
      " - 0s - loss: 1823.2852\n",
      "Epoch 73/100\n",
      " - 0s - loss: 1823.2852\n",
      "Epoch 74/100\n",
      " - 0s - loss: 1823.2852\n",
      "Epoch 75/100\n",
      " - 0s - loss: 1823.2852\n",
      "Epoch 76/100\n",
      " - 0s - loss: 1823.2852\n",
      "Epoch 77/100\n",
      " - 0s - loss: 1823.2852\n",
      "Epoch 78/100\n",
      " - 0s - loss: 1823.2852\n",
      "Epoch 79/100\n",
      " - 0s - loss: 1823.2852\n",
      "Epoch 80/100\n",
      " - 0s - loss: 1823.2852\n",
      "Epoch 81/100\n",
      " - 0s - loss: 1823.2852\n",
      "Epoch 82/100\n",
      " - 0s - loss: 1823.2852\n",
      "Epoch 83/100\n",
      " - 0s - loss: 1823.2852\n",
      "Epoch 84/100\n",
      " - 0s - loss: 1823.2852\n",
      "Epoch 85/100\n",
      " - 0s - loss: 1823.2852\n",
      "Epoch 86/100\n",
      " - 0s - loss: 1823.2852\n",
      "Epoch 87/100\n",
      " - 0s - loss: 1823.2852\n",
      "Epoch 88/100\n",
      " - 0s - loss: 1823.2852\n",
      "Epoch 89/100\n",
      " - 0s - loss: 1823.2852\n",
      "Epoch 90/100\n",
      " - 0s - loss: 1823.2852\n",
      "Epoch 91/100\n",
      " - 0s - loss: 1823.2852\n",
      "Epoch 92/100\n",
      " - 0s - loss: 1823.2852\n",
      "Epoch 93/100\n",
      " - 0s - loss: 1823.2852\n",
      "Epoch 94/100\n",
      " - 0s - loss: 1823.2852\n",
      "Epoch 95/100\n",
      " - 0s - loss: 1823.2852\n",
      "Epoch 96/100\n",
      " - 0s - loss: 1823.2852\n",
      "Epoch 97/100\n",
      " - 0s - loss: 1823.2852\n",
      "Epoch 98/100\n",
      " - 0s - loss: 1823.2852\n",
      "Epoch 99/100\n",
      " - 0s - loss: 1823.2852\n",
      "Epoch 100/100\n",
      " - 0s - loss: 1823.2852\n"
     ]
    },
    {
     "data": {
      "text/plain": [
       "<keras.callbacks.History at 0xa0923b6198>"
      ]
     },
     "execution_count": 18,
     "metadata": {},
     "output_type": "execute_result"
    }
   ],
   "source": [
    "INPUT_DICT = {\n",
    "    'p_width': [5.0],\n",
    "    'p_start': [50, 50],\n",
    "    'p_end': [100.0,15.0],\n",
    "    'p_color': [1.0,1.0,1.0],\n",
    "    'state': np.zeros((N,N,3), dtype='float32')\n",
    "}\n",
    "\n",
    "# Pseudo-batching\n",
    "for k, v in INPUT_DICT.items():\n",
    "    INPUT_DICT[k] = np.array([v])\n",
    "    \n",
    "TARGET = np.array([MOCK_GOAL])\n",
    "do_iter = 100\n",
    "model.fit(epochs=do_iter, steps_per_epoch=1, x=INPUT_DICT, y=TARGET, verbose=2)\n"
   ]
  },
  {
   "cell_type": "code",
   "execution_count": 19,
   "metadata": {
    "colab": {
     "autoexec": {
      "startup": false,
      "wait_interval": 0
     },
     "base_uri": "https://localhost:8080/",
     "height": 367,
     "output_extras": [
      {
       "item_id": 1
      },
      {
       "item_id": 2
      }
     ]
    },
    "colab_type": "code",
    "collapsed": false,
    "executionInfo": {
     "elapsed": 1712,
     "status": "ok",
     "timestamp": 1510615185948,
     "user": {
      "displayName": "Kaynato",
      "photoUrl": "//lh5.googleusercontent.com/-mmipQhagciQ/AAAAAAAAAAI/AAAAAAAAAB8/hlW9RfIF7P0/s50-c-k-no/photo.jpg",
      "userId": "107812131170576792563"
     },
     "user_tz": 300
    },
    "id": "FKRvqoLEjZ3M",
    "outputId": "86612189-b596-47d6-b06c-cdf44e12159b"
   },
   "outputs": [
    {
     "name": "stderr",
     "output_type": "stream",
     "text": [
      "F:\\ProgramData\\Anaconda3\\lib\\site-packages\\ipykernel\\__main__.py:2: RuntimeWarning: invalid value encountered in true_divide\n",
      "  from ipykernel import kernelapp as app\n"
     ]
    },
    {
     "data": {
      "image/png": "[encoded data removed]",
      "text/plain": [
       "<matplotlib.figure.Figure at 0xa0923c8be0>"
      ]
     },
     "metadata": {},
     "output_type": "display_data"
    }
   ],
   "source": [
    "def show(im):\n",
    "    toshow = 255.0 * (im - im.min()) / (im.max() - im.min())\n",
    "    toshow = toshow.astype('uint8')\n",
    "    plt.imshow(toshow)\n",
    "\n",
    "out = model.predict(INPUT_DICT)[0]\n",
    "show(out)\n"
   ]
  },
  {
   "cell_type": "code",
   "execution_count": 23,
   "metadata": {
    "colab": {
     "autoexec": {
      "startup": false,
      "wait_interval": 0
     }
    },
    "colab_type": "code",
    "collapsed": false,
    "id": "EcFxZA1ioE5R"
   },
   "outputs": [],
   "source": [
    "brush_params = [x for x in critic_input.values()]\n",
    "param_model = keras.models.Model(inputs=MODEL_INPUTS,\n",
    "                                 outputs=brush_params + [new_state])\n",
    "intermediates = param_model.predict(INPUT_DICT)"
   ]
  },
  {
   "cell_type": "code",
   "execution_count": 24,
   "metadata": {
    "collapsed": false
   },
   "outputs": [
    {
     "data": {
      "text/plain": [
       "[array([[ 0.,  0.]], dtype=float32),\n",
       " array([[ 0.,  0.]], dtype=float32),\n",
       " array([[ 0.]], dtype=float32),\n",
       " array([[ 0.,  0.,  0.]], dtype=float32)]"
      ]
     },
     "execution_count": 24,
     "metadata": {},
     "output_type": "execute_result"
    },
    {
     "data": {
      "image/png": "[encoded data removed]",
      "text/plain": [
       "<matplotlib.figure.Figure at 0xa0937756d8>"
      ]
     },
     "metadata": {},
     "output_type": "display_data"
    }
   ],
   "source": [
    "plt.imshow(intermediates[-1][0])\n",
    "intermediates[:-1]"
   ]
  },
  {
   "cell_type": "code",
   "execution_count": 34,
   "metadata": {
    "collapsed": false
   },
   "outputs": [
    {
     "data": {
      "text/plain": [
       "[array([[50, 50]]),\n",
       " array([[ 100.,   15.]]),\n",
       " array([[ 5.]]),\n",
       " array([[ 1.,  1.,  1.]])]"
      ]
     },
     "execution_count": 34,
     "metadata": {},
     "output_type": "execute_result"
    }
   ],
   "source": [
    "[INPUT_DICT[k] for k in ['p_start', 'p_end', 'p_width', 'p_color']]"
   ]
  },
  {
   "cell_type": "code",
   "execution_count": 35,
   "metadata": {
    "colab": {
     "autoexec": {
      "startup": false,
      "wait_interval": 0
     },
     "base_uri": "https://localhost:8080/",
     "height": 680,
     "output_extras": [
      {
       "item_id": 10
      }
     ]
    },
    "colab_type": "code",
    "collapsed": false,
    "executionInfo": {
     "elapsed": 5129,
     "status": "ok",
     "timestamp": 1510615295369,
     "user": {
      "displayName": "Kaynato",
      "photoUrl": "//lh5.googleusercontent.com/-mmipQhagciQ/AAAAAAAAAAI/AAAAAAAAAB8/hlW9RfIF7P0/s50-c-k-no/photo.jpg",
      "userId": "107812131170576792563"
     },
     "user_tz": 300
    },
    "id": "DapDQ1kMj-xG",
    "outputId": "cefed9b9-c862-4ff3-de6b-4f48fb3150b8",
    "scrolled": true
   },
   "outputs": [
    {
     "ename": "InvalidArgumentError",
     "evalue": "Shape [-1,256,256,3] has negative dimensions\n\t [[Node: state = Placeholder[dtype=DT_FLOAT, shape=[?,256,256,3], _device=\"/job:localhost/replica:0/task:0/gpu:0\"]()]]\n\nCaused by op 'state', defined at:\n  File \"F:\\ProgramData\\Anaconda3\\lib\\runpy.py\", line 193, in _run_module_as_main\n    \"__main__\", mod_spec)\n  File \"F:\\ProgramData\\Anaconda3\\lib\\runpy.py\", line 85, in _run_code\n    exec(code, run_globals)\n  File \"F:\\ProgramData\\Anaconda3\\lib\\site-packages\\ipykernel\\__main__.py\", line 3, in <module>\n    app.launch_new_instance()\n  File \"F:\\ProgramData\\Anaconda3\\lib\\site-packages\\traitlets\\config\\application.py\", line 658, in launch_instance\n    app.start()\n  File \"F:\\ProgramData\\Anaconda3\\lib\\site-packages\\ipykernel\\kernelapp.py\", line 474, in start\n    ioloop.IOLoop.instance().start()\n  File \"F:\\ProgramData\\Anaconda3\\lib\\site-packages\\zmq\\eventloop\\ioloop.py\", line 177, in start\n    super(ZMQIOLoop, self).start()\n  File \"F:\\ProgramData\\Anaconda3\\lib\\site-packages\\tornado\\ioloop.py\", line 887, in start\n    handler_func(fd_obj, events)\n  File \"F:\\ProgramData\\Anaconda3\\lib\\site-packages\\tornado\\stack_context.py\", line 275, in null_wrapper\n    return fn(*args, **kwargs)\n  File \"F:\\ProgramData\\Anaconda3\\lib\\site-packages\\zmq\\eventloop\\zmqstream.py\", line 440, in _handle_events\n    self._handle_recv()\n  File \"F:\\ProgramData\\Anaconda3\\lib\\site-packages\\zmq\\eventloop\\zmqstream.py\", line 472, in _handle_recv\n    self._run_callback(callback, msg)\n  File \"F:\\ProgramData\\Anaconda3\\lib\\site-packages\\zmq\\eventloop\\zmqstream.py\", line 414, in _run_callback\n    callback(*args, **kwargs)\n  File \"F:\\ProgramData\\Anaconda3\\lib\\site-packages\\tornado\\stack_context.py\", line 275, in null_wrapper\n    return fn(*args, **kwargs)\n  File \"F:\\ProgramData\\Anaconda3\\lib\\site-packages\\ipykernel\\kernelbase.py\", line 276, in dispatcher\n    return self.dispatch_shell(stream, msg)\n  File \"F:\\ProgramData\\Anaconda3\\lib\\site-packages\\ipykernel\\kernelbase.py\", line 228, in dispatch_shell\n    handler(stream, idents, msg)\n  File \"F:\\ProgramData\\Anaconda3\\lib\\site-packages\\ipykernel\\kernelbase.py\", line 390, in execute_request\n    user_expressions, allow_stdin)\n  File \"F:\\ProgramData\\Anaconda3\\lib\\site-packages\\ipykernel\\ipkernel.py\", line 196, in do_execute\n    res = shell.run_cell(code, store_history=store_history, silent=silent)\n  File \"F:\\ProgramData\\Anaconda3\\lib\\site-packages\\ipykernel\\zmqshell.py\", line 501, in run_cell\n    return super(ZMQInteractiveShell, self).run_cell(*args, **kwargs)\n  File \"F:\\ProgramData\\Anaconda3\\lib\\site-packages\\IPython\\core\\interactiveshell.py\", line 2717, in run_cell\n    interactivity=interactivity, compiler=compiler, result=result)\n  File \"F:\\ProgramData\\Anaconda3\\lib\\site-packages\\IPython\\core\\interactiveshell.py\", line 2821, in run_ast_nodes\n    if self.run_code(code, result):\n  File \"F:\\ProgramData\\Anaconda3\\lib\\site-packages\\IPython\\core\\interactiveshell.py\", line 2881, in run_code\n    exec(code_obj, self.user_global_ns, self.user_ns)\n  File \"<ipython-input-5-f6585724e720>\", line 3, in <module>\n    inputs['state']    = keras.layers.Input(shape=(N, N, 3), name='state')\n  File \"F:\\ProgramData\\Anaconda3\\lib\\site-packages\\keras\\engine\\topology.py\", line 1439, in Input\n    input_tensor=tensor)\n  File \"F:\\ProgramData\\Anaconda3\\lib\\site-packages\\keras\\legacy\\interfaces.py\", line 87, in wrapper\n    return func(*args, **kwargs)\n  File \"F:\\ProgramData\\Anaconda3\\lib\\site-packages\\keras\\engine\\topology.py\", line 1348, in __init__\n    name=self.name)\n  File \"F:\\ProgramData\\Anaconda3\\lib\\site-packages\\keras\\backend\\tensorflow_backend.py\", line 492, in placeholder\n    x = tf.placeholder(dtype, shape=shape, name=name)\n  File \"F:\\ProgramData\\Anaconda3\\lib\\site-packages\\tensorflow\\python\\ops\\array_ops.py\", line 1530, in placeholder\n    return gen_array_ops._placeholder(dtype=dtype, shape=shape, name=name)\n  File \"F:\\ProgramData\\Anaconda3\\lib\\site-packages\\tensorflow\\python\\ops\\gen_array_ops.py\", line 1954, in _placeholder\n    name=name)\n  File \"F:\\ProgramData\\Anaconda3\\lib\\site-packages\\tensorflow\\python\\framework\\op_def_library.py\", line 767, in apply_op\n    op_def=op_def)\n  File \"F:\\ProgramData\\Anaconda3\\lib\\site-packages\\tensorflow\\python\\framework\\ops.py\", line 2506, in create_op\n    original_op=self._default_original_op, op_def=op_def)\n  File \"F:\\ProgramData\\Anaconda3\\lib\\site-packages\\tensorflow\\python\\framework\\ops.py\", line 1269, in __init__\n    self._traceback = _extract_stack()\n\nInvalidArgumentError (see above for traceback): Shape [-1,256,256,3] has negative dimensions\n\t [[Node: state = Placeholder[dtype=DT_FLOAT, shape=[?,256,256,3], _device=\"/job:localhost/replica:0/task:0/gpu:0\"]()]]\n",
     "output_type": "error",
     "traceback": [
      "\u001b[0;31m---------------------------------------------------------------------------\u001b[0m",
      "\u001b[0;31mInvalidArgumentError\u001b[0m                      Traceback (most recent call last)",
      "\u001b[0;32mF:\\ProgramData\\Anaconda3\\lib\\site-packages\\tensorflow\\python\\client\\session.py\u001b[0m in \u001b[0;36m_do_call\u001b[0;34m(self, fn, *args)\u001b[0m\n\u001b[1;32m   1138\u001b[0m     \u001b[1;32mtry\u001b[0m\u001b[1;33m:\u001b[0m\u001b[1;33m\u001b[0m\u001b[0m\n\u001b[0;32m-> 1139\u001b[0;31m       \u001b[1;32mreturn\u001b[0m \u001b[0mfn\u001b[0m\u001b[1;33m(\u001b[0m\u001b[1;33m*\u001b[0m\u001b[0margs\u001b[0m\u001b[1;33m)\u001b[0m\u001b[1;33m\u001b[0m\u001b[0m\n\u001b[0m\u001b[1;32m   1140\u001b[0m     \u001b[1;32mexcept\u001b[0m \u001b[0merrors\u001b[0m\u001b[1;33m.\u001b[0m\u001b[0mOpError\u001b[0m \u001b[1;32mas\u001b[0m \u001b[0me\u001b[0m\u001b[1;33m:\u001b[0m\u001b[1;33m\u001b[0m\u001b[0m\n",
      "\u001b[0;32mF:\\ProgramData\\Anaconda3\\lib\\site-packages\\tensorflow\\python\\client\\session.py\u001b[0m in \u001b[0;36m_run_fn\u001b[0;34m(session, feed_dict, fetch_list, target_list, options, run_metadata)\u001b[0m\n\u001b[1;32m   1120\u001b[0m                                  \u001b[0mfeed_dict\u001b[0m\u001b[1;33m,\u001b[0m \u001b[0mfetch_list\u001b[0m\u001b[1;33m,\u001b[0m \u001b[0mtarget_list\u001b[0m\u001b[1;33m,\u001b[0m\u001b[1;33m\u001b[0m\u001b[0m\n\u001b[0;32m-> 1121\u001b[0;31m                                  status, run_metadata)\n\u001b[0m\u001b[1;32m   1122\u001b[0m \u001b[1;33m\u001b[0m\u001b[0m\n",
      "\u001b[0;32mF:\\ProgramData\\Anaconda3\\lib\\contextlib.py\u001b[0m in \u001b[0;36m__exit__\u001b[0;34m(self, type, value, traceback)\u001b[0m\n\u001b[1;32m     88\u001b[0m             \u001b[1;32mtry\u001b[0m\u001b[1;33m:\u001b[0m\u001b[1;33m\u001b[0m\u001b[0m\n\u001b[0;32m---> 89\u001b[0;31m                 \u001b[0mnext\u001b[0m\u001b[1;33m(\u001b[0m\u001b[0mself\u001b[0m\u001b[1;33m.\u001b[0m\u001b[0mgen\u001b[0m\u001b[1;33m)\u001b[0m\u001b[1;33m\u001b[0m\u001b[0m\n\u001b[0m\u001b[1;32m     90\u001b[0m             \u001b[1;32mexcept\u001b[0m \u001b[0mStopIteration\u001b[0m\u001b[1;33m:\u001b[0m\u001b[1;33m\u001b[0m\u001b[0m\n",
      "\u001b[0;32mF:\\ProgramData\\Anaconda3\\lib\\site-packages\\tensorflow\\python\\framework\\errors_impl.py\u001b[0m in \u001b[0;36mraise_exception_on_not_ok_status\u001b[0;34m()\u001b[0m\n\u001b[1;32m    465\u001b[0m           \u001b[0mcompat\u001b[0m\u001b[1;33m.\u001b[0m\u001b[0mas_text\u001b[0m\u001b[1;33m(\u001b[0m\u001b[0mpywrap_tensorflow\u001b[0m\u001b[1;33m.\u001b[0m\u001b[0mTF_Message\u001b[0m\u001b[1;33m(\u001b[0m\u001b[0mstatus\u001b[0m\u001b[1;33m)\u001b[0m\u001b[1;33m)\u001b[0m\u001b[1;33m,\u001b[0m\u001b[1;33m\u001b[0m\u001b[0m\n\u001b[0;32m--> 466\u001b[0;31m           pywrap_tensorflow.TF_GetCode(status))\n\u001b[0m\u001b[1;32m    467\u001b[0m   \u001b[1;32mfinally\u001b[0m\u001b[1;33m:\u001b[0m\u001b[1;33m\u001b[0m\u001b[0m\n",
      "\u001b[0;31mInvalidArgumentError\u001b[0m: Shape [-1,256,256,3] has negative dimensions\n\t [[Node: state = Placeholder[dtype=DT_FLOAT, shape=[?,256,256,3], _device=\"/job:localhost/replica:0/task:0/gpu:0\"]()]]",
      "\nDuring handling of the above exception, another exception occurred:\n",
      "\u001b[0;31mInvalidArgumentError\u001b[0m                      Traceback (most recent call last)",
      "\u001b[0;32m<ipython-input-35-2c91b4406adf>\u001b[0m in \u001b[0;36m<module>\u001b[0;34m()\u001b[0m\n\u001b[1;32m      2\u001b[0m \u001b[0mtheloss\u001b[0m \u001b[1;33m=\u001b[0m \u001b[0mredraw_loss\u001b[0m\u001b[1;33m(\u001b[0m\u001b[0mTARGET\u001b[0m\u001b[1;33m,\u001b[0m \u001b[0mnew_state\u001b[0m\u001b[1;33m)\u001b[0m\u001b[1;33m\u001b[0m\u001b[0m\n\u001b[1;32m      3\u001b[0m \u001b[0mfn\u001b[0m \u001b[1;33m=\u001b[0m \u001b[0mkeras\u001b[0m\u001b[1;33m.\u001b[0m\u001b[0mbackend\u001b[0m\u001b[1;33m.\u001b[0m\u001b[0mfunction\u001b[0m\u001b[1;33m(\u001b[0m\u001b[0mbrush_params\u001b[0m\u001b[1;33m,\u001b[0m \u001b[0mkeras\u001b[0m\u001b[1;33m.\u001b[0m\u001b[0mbackend\u001b[0m\u001b[1;33m.\u001b[0m\u001b[0mgradients\u001b[0m\u001b[1;33m(\u001b[0m\u001b[0mtheloss\u001b[0m\u001b[1;33m,\u001b[0m \u001b[0mbrush_params\u001b[0m\u001b[1;33m)\u001b[0m\u001b[1;33m)\u001b[0m\u001b[1;33m\u001b[0m\u001b[0m\n\u001b[0;32m----> 4\u001b[0;31m \u001b[0mfn\u001b[0m\u001b[1;33m(\u001b[0m\u001b[1;33m[\u001b[0m\u001b[0mINPUT_DICT\u001b[0m\u001b[1;33m[\u001b[0m\u001b[0mk\u001b[0m\u001b[1;33m]\u001b[0m \u001b[1;32mfor\u001b[0m \u001b[0mk\u001b[0m \u001b[1;32min\u001b[0m \u001b[1;33m[\u001b[0m\u001b[1;34m'p_start'\u001b[0m\u001b[1;33m,\u001b[0m \u001b[1;34m'p_end'\u001b[0m\u001b[1;33m,\u001b[0m \u001b[1;34m'p_width'\u001b[0m\u001b[1;33m,\u001b[0m \u001b[1;34m'p_color'\u001b[0m\u001b[1;33m]\u001b[0m\u001b[1;33m]\u001b[0m\u001b[1;33m)\u001b[0m\u001b[1;33m\u001b[0m\u001b[0m\n\u001b[0m",
      "\u001b[0;32mF:\\ProgramData\\Anaconda3\\lib\\site-packages\\keras\\backend\\tensorflow_backend.py\u001b[0m in \u001b[0;36m__call__\u001b[0;34m(self, inputs)\u001b[0m\n\u001b[1;32m   2350\u001b[0m         \u001b[0msession\u001b[0m \u001b[1;33m=\u001b[0m \u001b[0mget_session\u001b[0m\u001b[1;33m(\u001b[0m\u001b[1;33m)\u001b[0m\u001b[1;33m\u001b[0m\u001b[0m\n\u001b[1;32m   2351\u001b[0m         updated = session.run(fetches=fetches, feed_dict=feed_dict,\n\u001b[0;32m-> 2352\u001b[0;31m                               **self.session_kwargs)\n\u001b[0m\u001b[1;32m   2353\u001b[0m         \u001b[1;32mreturn\u001b[0m \u001b[0mupdated\u001b[0m\u001b[1;33m[\u001b[0m\u001b[1;33m:\u001b[0m\u001b[0mlen\u001b[0m\u001b[1;33m(\u001b[0m\u001b[0mself\u001b[0m\u001b[1;33m.\u001b[0m\u001b[0moutputs\u001b[0m\u001b[1;33m)\u001b[0m\u001b[1;33m]\u001b[0m\u001b[1;33m\u001b[0m\u001b[0m\n\u001b[1;32m   2354\u001b[0m \u001b[1;33m\u001b[0m\u001b[0m\n",
      "\u001b[0;32mF:\\ProgramData\\Anaconda3\\lib\\site-packages\\tensorflow\\python\\client\\session.py\u001b[0m in \u001b[0;36mrun\u001b[0;34m(self, fetches, feed_dict, options, run_metadata)\u001b[0m\n\u001b[1;32m    787\u001b[0m     \u001b[1;32mtry\u001b[0m\u001b[1;33m:\u001b[0m\u001b[1;33m\u001b[0m\u001b[0m\n\u001b[1;32m    788\u001b[0m       result = self._run(None, fetches, feed_dict, options_ptr,\n\u001b[0;32m--> 789\u001b[0;31m                          run_metadata_ptr)\n\u001b[0m\u001b[1;32m    790\u001b[0m       \u001b[1;32mif\u001b[0m \u001b[0mrun_metadata\u001b[0m\u001b[1;33m:\u001b[0m\u001b[1;33m\u001b[0m\u001b[0m\n\u001b[1;32m    791\u001b[0m         \u001b[0mproto_data\u001b[0m \u001b[1;33m=\u001b[0m \u001b[0mtf_session\u001b[0m\u001b[1;33m.\u001b[0m\u001b[0mTF_GetBuffer\u001b[0m\u001b[1;33m(\u001b[0m\u001b[0mrun_metadata_ptr\u001b[0m\u001b[1;33m)\u001b[0m\u001b[1;33m\u001b[0m\u001b[0m\n",
      "\u001b[0;32mF:\\ProgramData\\Anaconda3\\lib\\site-packages\\tensorflow\\python\\client\\session.py\u001b[0m in \u001b[0;36m_run\u001b[0;34m(self, handle, fetches, feed_dict, options, run_metadata)\u001b[0m\n\u001b[1;32m    995\u001b[0m     \u001b[1;32mif\u001b[0m \u001b[0mfinal_fetches\u001b[0m \u001b[1;32mor\u001b[0m \u001b[0mfinal_targets\u001b[0m\u001b[1;33m:\u001b[0m\u001b[1;33m\u001b[0m\u001b[0m\n\u001b[1;32m    996\u001b[0m       results = self._do_run(handle, final_targets, final_fetches,\n\u001b[0;32m--> 997\u001b[0;31m                              feed_dict_string, options, run_metadata)\n\u001b[0m\u001b[1;32m    998\u001b[0m     \u001b[1;32melse\u001b[0m\u001b[1;33m:\u001b[0m\u001b[1;33m\u001b[0m\u001b[0m\n\u001b[1;32m    999\u001b[0m       \u001b[0mresults\u001b[0m \u001b[1;33m=\u001b[0m \u001b[1;33m[\u001b[0m\u001b[1;33m]\u001b[0m\u001b[1;33m\u001b[0m\u001b[0m\n",
      "\u001b[0;32mF:\\ProgramData\\Anaconda3\\lib\\site-packages\\tensorflow\\python\\client\\session.py\u001b[0m in \u001b[0;36m_do_run\u001b[0;34m(self, handle, target_list, fetch_list, feed_dict, options, run_metadata)\u001b[0m\n\u001b[1;32m   1130\u001b[0m     \u001b[1;32mif\u001b[0m \u001b[0mhandle\u001b[0m \u001b[1;32mis\u001b[0m \u001b[1;32mNone\u001b[0m\u001b[1;33m:\u001b[0m\u001b[1;33m\u001b[0m\u001b[0m\n\u001b[1;32m   1131\u001b[0m       return self._do_call(_run_fn, self._session, feed_dict, fetch_list,\n\u001b[0;32m-> 1132\u001b[0;31m                            target_list, options, run_metadata)\n\u001b[0m\u001b[1;32m   1133\u001b[0m     \u001b[1;32melse\u001b[0m\u001b[1;33m:\u001b[0m\u001b[1;33m\u001b[0m\u001b[0m\n\u001b[1;32m   1134\u001b[0m       return self._do_call(_prun_fn, self._session, handle, feed_dict,\n",
      "\u001b[0;32mF:\\ProgramData\\Anaconda3\\lib\\site-packages\\tensorflow\\python\\client\\session.py\u001b[0m in \u001b[0;36m_do_call\u001b[0;34m(self, fn, *args)\u001b[0m\n\u001b[1;32m   1150\u001b[0m         \u001b[1;32mexcept\u001b[0m \u001b[0mKeyError\u001b[0m\u001b[1;33m:\u001b[0m\u001b[1;33m\u001b[0m\u001b[0m\n\u001b[1;32m   1151\u001b[0m           \u001b[1;32mpass\u001b[0m\u001b[1;33m\u001b[0m\u001b[0m\n\u001b[0;32m-> 1152\u001b[0;31m       \u001b[1;32mraise\u001b[0m \u001b[0mtype\u001b[0m\u001b[1;33m(\u001b[0m\u001b[0me\u001b[0m\u001b[1;33m)\u001b[0m\u001b[1;33m(\u001b[0m\u001b[0mnode_def\u001b[0m\u001b[1;33m,\u001b[0m \u001b[0mop\u001b[0m\u001b[1;33m,\u001b[0m \u001b[0mmessage\u001b[0m\u001b[1;33m)\u001b[0m\u001b[1;33m\u001b[0m\u001b[0m\n\u001b[0m\u001b[1;32m   1153\u001b[0m \u001b[1;33m\u001b[0m\u001b[0m\n\u001b[1;32m   1154\u001b[0m   \u001b[1;32mdef\u001b[0m \u001b[0m_extend_graph\u001b[0m\u001b[1;33m(\u001b[0m\u001b[0mself\u001b[0m\u001b[1;33m)\u001b[0m\u001b[1;33m:\u001b[0m\u001b[1;33m\u001b[0m\u001b[0m\n",
      "\u001b[0;31mInvalidArgumentError\u001b[0m: Shape [-1,256,256,3] has negative dimensions\n\t [[Node: state = Placeholder[dtype=DT_FLOAT, shape=[?,256,256,3], _device=\"/job:localhost/replica:0/task:0/gpu:0\"]()]]\n\nCaused by op 'state', defined at:\n  File \"F:\\ProgramData\\Anaconda3\\lib\\runpy.py\", line 193, in _run_module_as_main\n    \"__main__\", mod_spec)\n  File \"F:\\ProgramData\\Anaconda3\\lib\\runpy.py\", line 85, in _run_code\n    exec(code, run_globals)\n  File \"F:\\ProgramData\\Anaconda3\\lib\\site-packages\\ipykernel\\__main__.py\", line 3, in <module>\n    app.launch_new_instance()\n  File \"F:\\ProgramData\\Anaconda3\\lib\\site-packages\\traitlets\\config\\application.py\", line 658, in launch_instance\n    app.start()\n  File \"F:\\ProgramData\\Anaconda3\\lib\\site-packages\\ipykernel\\kernelapp.py\", line 474, in start\n    ioloop.IOLoop.instance().start()\n  File \"F:\\ProgramData\\Anaconda3\\lib\\site-packages\\zmq\\eventloop\\ioloop.py\", line 177, in start\n    super(ZMQIOLoop, self).start()\n  File \"F:\\ProgramData\\Anaconda3\\lib\\site-packages\\tornado\\ioloop.py\", line 887, in start\n    handler_func(fd_obj, events)\n  File \"F:\\ProgramData\\Anaconda3\\lib\\site-packages\\tornado\\stack_context.py\", line 275, in null_wrapper\n    return fn(*args, **kwargs)\n  File \"F:\\ProgramData\\Anaconda3\\lib\\site-packages\\zmq\\eventloop\\zmqstream.py\", line 440, in _handle_events\n    self._handle_recv()\n  File \"F:\\ProgramData\\Anaconda3\\lib\\site-packages\\zmq\\eventloop\\zmqstream.py\", line 472, in _handle_recv\n    self._run_callback(callback, msg)\n  File \"F:\\ProgramData\\Anaconda3\\lib\\site-packages\\zmq\\eventloop\\zmqstream.py\", line 414, in _run_callback\n    callback(*args, **kwargs)\n  File \"F:\\ProgramData\\Anaconda3\\lib\\site-packages\\tornado\\stack_context.py\", line 275, in null_wrapper\n    return fn(*args, **kwargs)\n  File \"F:\\ProgramData\\Anaconda3\\lib\\site-packages\\ipykernel\\kernelbase.py\", line 276, in dispatcher\n    return self.dispatch_shell(stream, msg)\n  File \"F:\\ProgramData\\Anaconda3\\lib\\site-packages\\ipykernel\\kernelbase.py\", line 228, in dispatch_shell\n    handler(stream, idents, msg)\n  File \"F:\\ProgramData\\Anaconda3\\lib\\site-packages\\ipykernel\\kernelbase.py\", line 390, in execute_request\n    user_expressions, allow_stdin)\n  File \"F:\\ProgramData\\Anaconda3\\lib\\site-packages\\ipykernel\\ipkernel.py\", line 196, in do_execute\n    res = shell.run_cell(code, store_history=store_history, silent=silent)\n  File \"F:\\ProgramData\\Anaconda3\\lib\\site-packages\\ipykernel\\zmqshell.py\", line 501, in run_cell\n    return super(ZMQInteractiveShell, self).run_cell(*args, **kwargs)\n  File \"F:\\ProgramData\\Anaconda3\\lib\\site-packages\\IPython\\core\\interactiveshell.py\", line 2717, in run_cell\n    interactivity=interactivity, compiler=compiler, result=result)\n  File \"F:\\ProgramData\\Anaconda3\\lib\\site-packages\\IPython\\core\\interactiveshell.py\", line 2821, in run_ast_nodes\n    if self.run_code(code, result):\n  File \"F:\\ProgramData\\Anaconda3\\lib\\site-packages\\IPython\\core\\interactiveshell.py\", line 2881, in run_code\n    exec(code_obj, self.user_global_ns, self.user_ns)\n  File \"<ipython-input-5-f6585724e720>\", line 3, in <module>\n    inputs['state']    = keras.layers.Input(shape=(N, N, 3), name='state')\n  File \"F:\\ProgramData\\Anaconda3\\lib\\site-packages\\keras\\engine\\topology.py\", line 1439, in Input\n    input_tensor=tensor)\n  File \"F:\\ProgramData\\Anaconda3\\lib\\site-packages\\keras\\legacy\\interfaces.py\", line 87, in wrapper\n    return func(*args, **kwargs)\n  File \"F:\\ProgramData\\Anaconda3\\lib\\site-packages\\keras\\engine\\topology.py\", line 1348, in __init__\n    name=self.name)\n  File \"F:\\ProgramData\\Anaconda3\\lib\\site-packages\\keras\\backend\\tensorflow_backend.py\", line 492, in placeholder\n    x = tf.placeholder(dtype, shape=shape, name=name)\n  File \"F:\\ProgramData\\Anaconda3\\lib\\site-packages\\tensorflow\\python\\ops\\array_ops.py\", line 1530, in placeholder\n    return gen_array_ops._placeholder(dtype=dtype, shape=shape, name=name)\n  File \"F:\\ProgramData\\Anaconda3\\lib\\site-packages\\tensorflow\\python\\ops\\gen_array_ops.py\", line 1954, in _placeholder\n    name=name)\n  File \"F:\\ProgramData\\Anaconda3\\lib\\site-packages\\tensorflow\\python\\framework\\op_def_library.py\", line 767, in apply_op\n    op_def=op_def)\n  File \"F:\\ProgramData\\Anaconda3\\lib\\site-packages\\tensorflow\\python\\framework\\ops.py\", line 2506, in create_op\n    original_op=self._default_original_op, op_def=op_def)\n  File \"F:\\ProgramData\\Anaconda3\\lib\\site-packages\\tensorflow\\python\\framework\\ops.py\", line 1269, in __init__\n    self._traceback = _extract_stack()\n\nInvalidArgumentError (see above for traceback): Shape [-1,256,256,3] has negative dimensions\n\t [[Node: state = Placeholder[dtype=DT_FLOAT, shape=[?,256,256,3], _device=\"/job:localhost/replica:0/task:0/gpu:0\"]()]]\n"
     ]
    }
   ],
   "source": [
    "# Gradients\n",
    "theloss = redraw_loss(TARGET, new_state)\n",
    "fn = keras.backend.function(brush_params, keras.backend.gradients(theloss, brush_params))\n",
    "fn([INPUT_DICT[k] for k in ['p_start', 'p_end', 'p_width', 'p_color']])"
   ]
  },
  {
   "cell_type": "code",
   "execution_count": 16,
   "metadata": {
    "colab": {
     "autoexec": {
      "startup": false,
      "wait_interval": 0
     },
     "base_uri": "https://localhost:8080/",
     "height": 367,
     "output_extras": [
      {
       "item_id": 1
      },
      {
       "item_id": 2
      }
     ]
    },
    "colab_type": "code",
    "collapsed": false,
    "executionInfo": {
     "elapsed": 736,
     "status": "ok",
     "timestamp": 1510615404440,
     "user": {
      "displayName": "Kaynato",
      "photoUrl": "//lh5.googleusercontent.com/-mmipQhagciQ/AAAAAAAAAAI/AAAAAAAAAB8/hlW9RfIF7P0/s50-c-k-no/photo.jpg",
      "userId": "107812131170576792563"
     },
     "user_tz": 300
    },
    "id": "jE3tuoGif8WL",
    "outputId": "e084098c-3009-4518-980d-1b43cad300ba"
   },
   "outputs": [
    {
     "ename": "NameError",
     "evalue": "name 'do_iter' is not defined",
     "output_type": "error",
     "traceback": [
      "\u001b[0;31m---------------------------------------------------------------------------\u001b[0m",
      "\u001b[0;31mNameError\u001b[0m                                 Traceback (most recent call last)",
      "\u001b[0;32m<ipython-input-16-e4d0e302ab01>\u001b[0m in \u001b[0;36m<module>\u001b[0;34m()\u001b[0m\n\u001b[1;32m      8\u001b[0m \u001b[1;33m\u001b[0m\u001b[0m\n\u001b[1;32m      9\u001b[0m \u001b[1;31m# Change\u001b[0m\u001b[1;33m\u001b[0m\u001b[1;33m\u001b[0m\u001b[0m\n\u001b[0;32m---> 10\u001b[0;31m \u001b[0max\u001b[0m\u001b[1;33m[\u001b[0m\u001b[1;36m0\u001b[0m\u001b[1;33m,\u001b[0m\u001b[1;36m0\u001b[0m\u001b[1;33m]\u001b[0m\u001b[1;33m.\u001b[0m\u001b[0mimshow\u001b[0m\u001b[1;33m(\u001b[0m\u001b[0mst_at\u001b[0m\u001b[1;33m(\u001b[0m\u001b[0mdo_iter\u001b[0m \u001b[1;33m-\u001b[0m \u001b[1;36m1\u001b[0m\u001b[1;33m)\u001b[0m \u001b[1;33m-\u001b[0m \u001b[0mst_at\u001b[0m\u001b[1;33m(\u001b[0m\u001b[1;36m0\u001b[0m\u001b[1;33m)\u001b[0m\u001b[1;33m)\u001b[0m\u001b[1;33m\u001b[0m\u001b[0m\n\u001b[0m\u001b[1;32m     11\u001b[0m \u001b[1;31m# Init err\u001b[0m\u001b[1;33m\u001b[0m\u001b[1;33m\u001b[0m\u001b[0m\n\u001b[1;32m     12\u001b[0m \u001b[0max\u001b[0m\u001b[1;33m[\u001b[0m\u001b[1;36m0\u001b[0m\u001b[1;33m,\u001b[0m\u001b[1;36m1\u001b[0m\u001b[1;33m]\u001b[0m\u001b[1;33m.\u001b[0m\u001b[0mimshow\u001b[0m\u001b[1;33m(\u001b[0m\u001b[0mdiff_at\u001b[0m\u001b[1;33m(\u001b[0m\u001b[1;36m0\u001b[0m\u001b[1;33m)\u001b[0m\u001b[1;33m)\u001b[0m\u001b[1;33m\u001b[0m\u001b[0m\n",
      "\u001b[0;31mNameError\u001b[0m: name 'do_iter' is not defined"
     ]
    },
    {
     "data": {
      "image/png": "[encoded data removed]",
      "text/plain": [
       "<matplotlib.figure.Figure at 0x690f5b9438>"
      ]
     },
     "metadata": {},
     "output_type": "display_data"
    }
   ],
   "source": [
    "fig, ax = plt.subplots(nrows=2, ncols=3, figsize=(18, 12))\n",
    "\n",
    "def st_at(idx):\n",
    "    return results[idx]['new_state'][0]\n",
    "\n",
    "def diff_at(idx):\n",
    "    return normed_input - 1 + results[idx]['new_state'][0]\n",
    "\n",
    "# Change\n",
    "ax[0,0].imshow(st_at(do_iter - 1) - st_at(0))\n",
    "# Init err\n",
    "ax[0,1].imshow(diff_at(0))\n",
    "# Init state\n",
    "ax[0,2].imshow(st_at(0))\n",
    "# Intermediate err\n",
    "ax[1,0].imshow(diff_at((do_iter // 3) - 1))\n",
    "# Last err\n",
    "ax[1,1].imshow(diff_at(do_iter - 1))\n",
    "# Last state\n",
    "ax[1,2].imshow(st_at(do_iter - 1))\n",
    "for a in ax.flat:\n",
    "    a.set_axis_off()"
   ]
  },
  {
   "cell_type": "code",
   "execution_count": 15,
   "metadata": {
    "colab": {
     "autoexec": {
      "startup": false,
      "wait_interval": 0
     },
     "base_uri": "https://localhost:8080/",
     "height": 367,
     "output_extras": [
      {
       "item_id": 1
      },
      {
       "item_id": 2
      }
     ]
    },
    "colab_type": "code",
    "collapsed": false,
    "executionInfo": {
     "elapsed": 764,
     "status": "ok",
     "timestamp": 1510615409472,
     "user": {
      "displayName": "Kaynato",
      "photoUrl": "//lh5.googleusercontent.com/-mmipQhagciQ/AAAAAAAAAAI/AAAAAAAAAB8/hlW9RfIF7P0/s50-c-k-no/photo.jpg",
      "userId": "107812131170576792563"
     },
     "user_tz": 300
    },
    "id": "J3YrvP1Yq9KA",
    "outputId": "b4f3a13b-7ff8-47b4-fdd2-bde4a9390623"
   },
   "outputs": [
    {
     "ename": "NameError",
     "evalue": "name 'do_iter' is not defined",
     "output_type": "error",
     "traceback": [
      "\u001b[0;31m---------------------------------------------------------------------------\u001b[0m",
      "\u001b[0;31mNameError\u001b[0m                                 Traceback (most recent call last)",
      "\u001b[0;32m<ipython-input-15-836ee616ea8d>\u001b[0m in \u001b[0;36m<module>\u001b[0;34m()\u001b[0m\n\u001b[1;32m      9\u001b[0m     \u001b[1;31m# diff_at(do_iter - 1)\u001b[0m\u001b[1;33m\u001b[0m\u001b[1;33m\u001b[0m\u001b[0m\n\u001b[1;32m     10\u001b[0m \u001b[1;33m\u001b[0m\u001b[0m\n\u001b[0;32m---> 11\u001b[0;31m \u001b[0minv_at_iter\u001b[0m\u001b[1;33m(\u001b[0m\u001b[0mdo_iter\u001b[0m \u001b[1;33m-\u001b[0m \u001b[1;36m1\u001b[0m\u001b[1;33m)\u001b[0m\u001b[1;33m\u001b[0m\u001b[0m\n\u001b[0m",
      "\u001b[0;31mNameError\u001b[0m: name 'do_iter' is not defined"
     ]
    }
   ],
   "source": [
    "def print_dict(d, pref=''):\n",
    "    for k, i in d.items():\n",
    "        print(pref, k, ':', i)\n",
    "\n",
    "def inv_at_iter(i):\n",
    "    print_dict(results[i])\n",
    "    print('grads')\n",
    "    print_dict(result_grads[i], '\\t')\n",
    "    # diff_at(do_iter - 1)\n",
    "    \n",
    "inv_at_iter(do_iter - 1)"
   ]
  },
  {
   "cell_type": "code",
   "execution_count": 14,
   "metadata": {
    "colab": {
     "autoexec": {
      "startup": false,
      "wait_interval": 0
     },
     "base_uri": "https://localhost:8080/",
     "height": 34,
     "output_extras": [
      {
       "item_id": 1
      }
     ]
    },
    "colab_type": "code",
    "collapsed": false,
    "executionInfo": {
     "elapsed": 1905,
     "status": "ok",
     "timestamp": 1510614195047,
     "user": {
      "displayName": "Kaynato",
      "photoUrl": "//lh5.googleusercontent.com/-mmipQhagciQ/AAAAAAAAAAI/AAAAAAAAAB8/hlW9RfIF7P0/s50-c-k-no/photo.jpg",
      "userId": "107812131170576792563"
     },
     "user_tz": 300
    },
    "id": "OzyRV1vunAf3",
    "outputId": "4dc93be5-82c6-4f3c-90d3-43a64b357f56"
   },
   "outputs": [
    {
     "ename": "NameError",
     "evalue": "name 'result_grads' is not defined",
     "output_type": "error",
     "traceback": [
      "\u001b[0;31m---------------------------------------------------------------------------\u001b[0m",
      "\u001b[0;31mNameError\u001b[0m                                 Traceback (most recent call last)",
      "\u001b[0;32m<ipython-input-14-b674cfdae91b>\u001b[0m in \u001b[0;36m<module>\u001b[0;34m()\u001b[0m\n\u001b[0;32m----> 1\u001b[0;31m \u001b[0mresult_grads\u001b[0m\u001b[1;33m\u001b[0m\u001b[0m\n\u001b[0m",
      "\u001b[0;31mNameError\u001b[0m: name 'result_grads' is not defined"
     ]
    }
   ],
   "source": [
    "result_grads"
   ]
  },
  {
   "cell_type": "code",
   "execution_count": 0,
   "metadata": {
    "colab": {
     "autoexec": {
      "startup": false,
      "wait_interval": 0
     }
    },
    "colab_type": "code",
    "collapsed": true,
    "id": "iLCClnVam7qT"
   },
   "outputs": [],
   "source": []
  }
 ],
 "metadata": {
  "colab": {
   "collapsed_sections": [],
   "default_view": {},
   "name": "Untitled1.ipynb",
   "provenance": [],
   "version": "0.3.2",
   "views": {}
  },
  "kernelspec": {
   "display_name": "Python 3",
   "language": "python",
   "name": "python3"
  },
  "language_info": {
   "codemirror_mode": {
    "name": "ipython",
    "version": 3
   },
   "file_extension": ".py",
   "mimetype": "text/x-python",
   "name": "python",
   "nbconvert_exporter": "python",
   "pygments_lexer": "ipython3",
   "version": "3.6.0"
  }
 },
 "nbformat": 4,
 "nbformat_minor": 0
}
